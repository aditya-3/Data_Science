{
  "nbformat": 4,
  "nbformat_minor": 0,
  "metadata": {
    "colab": {
      "name": "assignment2.ipynb",
      "provenance": [],
      "authorship_tag": "ABX9TyNOhJGRH1Y96LSC/VrUy9Om",
      "include_colab_link": true
    },
    "kernelspec": {
      "name": "python3",
      "display_name": "Python 3"
    }
  },
  "cells": [
    {
      "cell_type": "markdown",
      "metadata": {
        "id": "view-in-github",
        "colab_type": "text"
      },
      "source": [
        "<a href=\"https://colab.research.google.com/github/aditya-3/Data_Science/blob/master/python/assignment2.ipynb\" target=\"_parent\"><img src=\"https://colab.research.google.com/assets/colab-badge.svg\" alt=\"Open In Colab\"/></a>"
      ]
    },
    {
      "cell_type": "code",
      "metadata": {
        "id": "F4UCJvvbu8WP",
        "colab_type": "code",
        "colab": {}
      },
      "source": [
        "Q1\n",
        "Create a program that displays your name and complete mailing address \n",
        "formattedin the manner that you would usually see it on the outside \n",
        "of an envelope. \n",
        "Your program does not need to read any input from the user."
      ],
      "execution_count": null,
      "outputs": []
    },
    {
      "cell_type": "markdown",
      "metadata": {
        "id": "8QrAk9xZpcqB",
        "colab_type": "text"
      },
      "source": [
        ""
      ]
    },
    {
      "cell_type": "code",
      "metadata": {
        "id": "CbQtdea0peEO",
        "colab_type": "code",
        "colab": {
          "base_uri": "https://localhost:8080/",
          "height": 102
        },
        "outputId": "9398a6ad-a776-4488-ddab-72ea12b36e53"
      },
      "source": [
        "name = \"Aditya\"\n",
        "door_no = '2-5'\n",
        "address = 'Guntur, Andhra pradesh'\n",
        "pin = 522501\n",
        "\n",
        "print(\"mailing address for {0}\".format(name))\n",
        "print (\"Name :{0}\\nDoor No: {1}\\nAddress : {2}\\nPin Code : {3}\".format(name,door_no,address,pin))"
      ],
      "execution_count": 2,
      "outputs": [
        {
          "output_type": "stream",
          "text": [
            "mailing address for Aditya\n",
            "Name :Aditya\n",
            "Door No: 2-5\n",
            "Address : Guntur, Andhra pradesh\n",
            "Pin Code : 522501\n"
          ],
          "name": "stdout"
        }
      ]
    },
    {
      "cell_type": "markdown",
      "metadata": {
        "id": "eeQ2vxdMpam6",
        "colab_type": "text"
      },
      "source": [
        ""
      ]
    }
  ]
}