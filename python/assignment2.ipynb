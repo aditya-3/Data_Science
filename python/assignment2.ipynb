{
 "cells": [
  {
   "cell_type": "markdown",
   "metadata": {
    "colab_type": "text",
    "id": "view-in-github"
   },
   "source": [
    "<a href=\"https://colab.research.google.com/github/aditya-3/Data_Science/blob/master/python/assignment2.ipynb\" target=\"_parent\"><img src=\"https://colab.research.google.com/assets/colab-badge.svg\" alt=\"Open In Colab\"/></a>"
   ]
  },
  {
   "cell_type": "markdown",
   "metadata": {
    "colab": {},
    "colab_type": "code",
    "id": "F4UCJvvbu8WP"
   },
   "source": [
    "Q1\n",
    "Create a program that displays your name and complete mailing address \n",
    "formattedin the manner that you would usually see it on the outside \n",
    "of an envelope. \n",
    "Your program does not need to read any input from the user."
   ]
  },
  {
   "cell_type": "markdown",
   "metadata": {
    "colab_type": "text",
    "id": "8QrAk9xZpcqB"
   },
   "source": []
  },
  {
   "cell_type": "code",
   "execution_count": 2,
   "metadata": {
    "colab": {
     "base_uri": "https://localhost:8080/",
     "height": 102
    },
    "colab_type": "code",
    "id": "CbQtdea0peEO",
    "outputId": "9398a6ad-a776-4488-ddab-72ea12b36e53"
   },
   "outputs": [
    {
     "name": "stdout",
     "output_type": "stream",
     "text": [
      "mailing address for Aditya\n",
      "Name :Aditya\n",
      "Door No: 2-5\n",
      "Address : Guntur, Andhra pradesh\n",
      "Pin Code : 522501\n"
     ]
    }
   ],
   "source": [
    "name = \"Aditya\"\n",
    "door_no = '2-5'\n",
    "address = 'Guntur, Andhra pradesh'\n",
    "pin = 522501\n",
    "\n",
    "print(\"mailing address for {0}\".format(name))\n",
    "print (\"Name :{0}\\nDoor No: {1}\\nAddress : {2}\\nPin Code : {3}\".format(name,door_no,address,pin))"
   ]
  },
  {
   "cell_type": "markdown",
   "metadata": {
    "colab_type": "text",
    "id": "eeQ2vxdMpam6"
   },
   "source": []
  },
  {
   "cell_type": "code",
   "execution_count": null,
   "metadata": {},
   "outputs": [],
   "source": []
  }
 ],
 "metadata": {
  "colab": {
   "authorship_tag": "ABX9TyNOhJGRH1Y96LSC/VrUy9Om",
   "include_colab_link": true,
   "name": "assignment2.ipynb",
   "provenance": []
  },
  "kernelspec": {
   "display_name": "Python 3",
   "language": "python",
   "name": "python3"
  },
  "language_info": {
   "codemirror_mode": {
    "name": "ipython",
    "version": 3
   },
   "file_extension": ".py",
   "mimetype": "text/x-python",
   "name": "python",
   "nbconvert_exporter": "python",
   "pygments_lexer": "ipython3",
   "version": "3.7.0"
  }
 },
 "nbformat": 4,
 "nbformat_minor": 1
}
