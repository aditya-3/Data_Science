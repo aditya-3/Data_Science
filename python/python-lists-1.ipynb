{
 "cells": [
  {
   "cell_type": "markdown",
   "metadata": {},
   "source": [
    "# Question 1\n",
    "When analysing data collected as part of a science experiment it may be\n",
    "desirable to remove the most extreme values before performing other\n",
    "calculations. Write a function that takes a list of values and an nonnegative integer, n, as its parameters. The function should create a new\n",
    "copy of the list with the n largest elements and the n smallest elements\n",
    "removed. Then it should return the new copy of the list as the function’s\n",
    "only result. The order of the elements in the returned list does not have\n",
    "to match the order of the elements in the original list.\n",
    "Write a main program that demonstrates your function. Your function\n",
    "should read a list of numbers from the user and remove the two largest\n",
    "and two smallest values from it. Display the list with the outliers\n",
    "removed, followed by the original list. Your program should generate an\n",
    "appropriate error message if the user enters less than 4 values.\n"
   ]
  },
  {
   "cell_type": "code",
   "execution_count": 8,
   "metadata": {},
   "outputs": [
    {
     "name": "stdout",
     "output_type": "stream",
     "text": [
      "enter the value for the number of elements to remove from each end : 2\n",
      "Enter non negative integer values in to the list, press Q when finsh entering values\n",
      "9\n",
      "4\n",
      "3\n",
      "6\n",
      "1\n",
      "7\n",
      "5\n",
      "10\n",
      "2\n",
      "8\n",
      "q\n",
      "Original list [9, 4, 3, 6, 1, 7, 5, 10, 2, 8]\n",
      "with outliers removed [3, 4, 5, 6, 7, 8]\n"
     ]
    }
   ],
   "source": [
    "n = int(input(\"enter the value for the number of elements to remove from each end : \"))\n",
    "values = []\n",
    "print(\"Enter non negative integer values in to the list, press Q when finsh entering values\")\n",
    "while (True):\n",
    "    value = input()\n",
    "    if (value.isalpha()):\n",
    "        if (value.lower() == 'q' and len(values) >= 2*n):\n",
    "            break\n",
    "        else:\n",
    "            print(\"the list should contain atleast {} elements\".format(2*n))\n",
    "    else:\n",
    "        values.append(int(value))\n",
    "print (\"Original list {}\".format(values))\n",
    "values.sort()\n",
    "length = len(values)\n",
    "del values[0:n]\n",
    "length = len(values)\n",
    "del values[length-n:length]\n",
    "#print (values)\n",
    "print (\"with outliers removed {}\".format(values))\n",
    "#[9, 4, 3, 6, 1, 7, 5, 10, 2, 8]"
   ]
  },
  {
   "cell_type": "markdown",
   "metadata": {},
   "source": [
    "# Question 2\n",
    "\n",
    "In this exercise you will create a program that identifies all of the words\n",
    "in a string entered by the user. Begin by writing a function that takes a\n",
    "string of text as its only parameter. Your function should return a list of\n",
    "the words in the string with the punctuation marks at the edges of the\n",
    "words removed. The punctuation marks that you must remove include\n",
    "commas, periods, question marks, hyphens, apostrophes, exclamation\n",
    "points, colons, and semicolons. Do not remove punctuation marks that\n",
    "appear in the middle of a words, such as the apostrophes used to form a\n",
    "contraction. For example, if your function is provided with the string\n",
    "\"Examples of contractions include: don’t, isn’t, and\n",
    "wouldn’t.\" then your function should return the list [\"Examples\",\n",
    "\"of\",\"contractions\",\"include\",\"don’t\",\"isn’t\",\"and\",\"\n",
    "wouldn’t\"].\n",
    "Write a main program that demonstrates your function. It should read a\n",
    "string from the user and display all of the words in the string with the\n",
    "punctuation marks removed. "
   ]
  },
  {
   "cell_type": "code",
   "execution_count": 76,
   "metadata": {},
   "outputs": [
    {
     "data": {
      "text/plain": [
       "['Examples',\n",
       " 'of',\n",
       " 'contractions',\n",
       " 'include',\n",
       " 'don’t',\n",
       " 'isn’t',\n",
       " 'and',\n",
       " 'wouldn’t',\n",
       " '']"
      ]
     },
     "execution_count": 76,
     "metadata": {},
     "output_type": "execute_result"
    }
   ],
   "source": [
    "import re\n",
    "\n",
    "s = \"Examples of contractions include: don’t, isn’t, and wouldn’t.\"\n",
    "re.split(r'[:;,.\\s]\\s*',s)\n",
    "  "
   ]
  }
 ],
 "metadata": {
  "kernelspec": {
   "display_name": "Python 3",
   "language": "python",
   "name": "python3"
  }
 },
 "nbformat": 4,
 "nbformat_minor": 2
}
