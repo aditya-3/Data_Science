{
 "cells": [
  {
   "cell_type": "markdown",
   "metadata": {
    "colab_type": "text",
    "id": "8QrAk9xZpcqB"
   },
   "source": [
    "# Exercise 1:Mailing Address\n",
    "\n",
    "\n",
    "\n",
    "\n",
    "Create a program that displays your name and complete\n",
    "mailing address formattedin the manner that you would usually see it on the \n",
    "outside of an envelope. Your program does not need to read any input from the user.\n"
   ]
  },
  {
   "cell_type": "code",
   "execution_count": null,
   "metadata": {
    "colab": {
     "base_uri": "https://localhost:8080/",
     "height": 102
    },
    "colab_type": "code",
    "id": "CbQtdea0peEO",
    "outputId": "659ebe1c-4919-47d5-d915-4f846bab9b4e"
   },
   "outputs": [
    {
     "name": "stdout",
     "output_type": "stream",
     "text": [
      "mailing address for Aditya\n",
      "Name :Aditya\n",
      "Door No: 2-5\n",
      "Address : Guntur, Andhra pradesh\n",
      "Pin Code : 522501\n"
     ]
    }
   ],
   "source": [
    "name = \"Aditya\"\n",
    "door_no = '2-5'\n",
    "address = 'Guntur, Andhra pradesh'\n",
    "pin = 522501\n",
    "\n",
    "print(\"mailing address for {0}\".format(name))\n",
    "print (\"Name :{0}\\nDoor No: {1}\\nAddress : {2}\\nPin Code : {3}\".format(name,door_no,address,pin))"
   ]
  },
  {
   "cell_type": "markdown",
   "metadata": {
    "colab_type": "text",
    "id": "eeQ2vxdMpam6"
   },
   "source": [
    "# Exercise 2: Hello                                             \n",
    "\n",
    "Write a program that asks the user to enter his or her name. The program should respond with a message that says hello to the user, using his or her name."
   ]
  },
  {
   "cell_type": "code",
   "execution_count": null,
   "metadata": {
    "colab": {
     "base_uri": "https://localhost:8080/",
     "height": 51
    },
    "colab_type": "code",
    "id": "GkvWVVDnrehA",
    "outputId": "8eb49a7f-7c72-465c-96ed-1580af7ade2f"
   },
   "outputs": [
    {
     "name": "stdout",
     "output_type": "stream",
     "text": [
      "Enter your name : Aditya\n",
      "hello Aditya\n"
     ]
    }
   ],
   "source": [
    "name = input(\"Enter your name : \")\n",
    "print (\"hello {0}\".format(name))"
   ]
  },
  {
   "cell_type": "markdown",
   "metadata": {
    "colab_type": "text",
    "id": "yuYNoY3osgc7"
   },
   "source": [
    "# Exercise 3: Area of a Room\n",
    "\n",
    "Write a program that asks the user to enter the width and length of a room. Once the values have been read, your program should compute and display the area of the room. The length and the width will be entered as floating-pointnumbers. Include units in your prompt and output message; either feet or meters, depending on which unit you are more comfortable working with.\n"
   ]
  },
  {
   "cell_type": "code",
   "execution_count": null,
   "metadata": {
    "colab": {
     "base_uri": "https://localhost:8080/",
     "height": 68
    },
    "colab_type": "code",
    "id": "lwtcpPhEutkd",
    "outputId": "673bff29-c0f3-4734-fa3f-e218db4db31d"
   },
   "outputs": [
    {
     "name": "stdout",
     "output_type": "stream",
     "text": [
      "enter Width in feet30\n",
      "enter Height in feet40\n",
      "area of the room with width = 30.0 feet and height = 40.0 feet is 1200.0 square feet\n"
     ]
    }
   ],
   "source": [
    "w = float(input(\"enter Width in feet : \"))\n",
    "h = float(input(\"enter Height in feet : \"))\n",
    "area = w*h\n",
    "print(\"area of the room with width = {} feet and height = {} feet is {} square feet\".format(w,h,area))\n"
   ]
  },
  {
   "cell_type": "markdown",
   "metadata": {
    "colab_type": "text",
    "id": "DQU14e4juecS"
   },
   "source": [
    "# Exercise 4:Area of a Field\n",
    "\n",
    "Create a program that reads the length and width of a farmer’s field \n",
    "from the user in feet. Display the area of the field in acres. Hint: There are 43,560 square feet in an acre.\n"
   ]
  },
  {
   "cell_type": "code",
   "execution_count": null,
   "metadata": {
    "colab": {
     "base_uri": "https://localhost:8080/",
     "height": 68
    },
    "colab_type": "code",
    "id": "4gbuRWjUzOnE",
    "outputId": "98462387-8d18-4237-9067-6ebd248bb7fa"
   },
   "outputs": [
    {
     "name": "stdout",
     "output_type": "stream",
     "text": [
      "enter Width in feet : 300\n",
      "enter Length in feet : 400\n",
      "area of the room with width = 300.0 feet and Length = 400.0 feet is 2.75 Acre\n"
     ]
    }
   ],
   "source": [
    "w = float(input(\"enter Width in feet : \"))\n",
    "l = float(input(\"enter Length in feet : \"))\n",
    "area = round((w*l)/43560,2)\n",
    "print(\"area of the room with width = {} feet and Length = {} feet is {} Acre\".format(w,l,area))\n"
   ]
  },
  {
   "cell_type": "markdown",
   "metadata": {
    "colab_type": "text",
    "id": "YLR_ge4Wz0ej"
   },
   "source": [
    "# Exercise 5: Bottle Deposits\n",
    "In many jurisdictions a small deposit is added to drink containers to encourage people to recycle them. In one particular jurisdiction, drink containers holding one litreor less have a  0.10 Dollar deposit, and drink containers holding more than one litrehave a 0.25 Dollar deposit. Write a program that reads the number of containers of each size from the user. Your program should continue by computing and displaying the refund that will be received for returning those containers. Format the output so that it includes a dollar sign and always displays exactly two decimal places."
   ]
  },
  {
   "cell_type": "code",
   "execution_count": null,
   "metadata": {
    "colab": {
     "base_uri": "https://localhost:8080/",
     "height": 68
    },
    "colab_type": "code",
    "id": "46DLW9E_0eJp",
    "outputId": "1994815a-4713-494a-beb8-ade1bc1afdf8"
   },
   "outputs": [
    {
     "name": "stdout",
     "output_type": "stream",
     "text": [
      "Enter the quantity for bottles of one liter or less : 300\n",
      "Enter the quantity for bottles of more that one liter : 375\n",
      "Your processd refund is $123.75 \n"
     ]
    }
   ],
   "source": [
    "num_less_1_liter = float(input(\"Enter the quantity for bottles of one liter or less : \"))\n",
    "num_more_1_liter = float(input(\"Enter the quantity for bottles of more that one liter : \"))\n",
    "refund  = (num_less_1_liter * 0.10) + (num_more_1_liter * 0.25)\n",
    "print (\"Your processd refund is ${} \".format(round(refund,2)))"
   ]
  },
  {
   "cell_type": "markdown",
   "metadata": {
    "colab_type": "text",
    "id": "zoLcYXJE2fu4"
   },
   "source": [
    "# Exercise 6: Tax and Tip\n",
    "The program that you create for this exercisewill begin by reading the cost of a meal ordered at a restaurant from the user. Then your program will compute the tax and tip for the meal. Use your local tax rate when computing the amount of tax owing. Compute the tip as 18 percent of the meal amount (without the tax). The output from your program should include the tax amount, the tip amount, and the grand total for the meal including both the tax and the tip. Format the output so that allthe values are displayed using two decimal places."
   ]
  },
  {
   "cell_type": "code",
   "execution_count": null,
   "metadata": {
    "colab": {
     "base_uri": "https://localhost:8080/",
     "height": 119
    },
    "colab_type": "code",
    "id": "vZTAQ9hk2mlt",
    "outputId": "604e0a22-4154-423e-c6d5-5546cf80bdcb"
   },
   "outputs": [
    {
     "name": "stdout",
     "output_type": "stream",
     "text": [
      "please enter the cost of the meal : 8993\n",
      "Meal : 8993.0\n",
      "Tip : 1618.74\n",
      "Tax : 1079.16\n",
      "--------------------\n",
      "Grand Total : 11690.9\n"
     ]
    }
   ],
   "source": [
    "meal_cost = float(input(\"please enter the cost of the meal : \"))\n",
    "tax_rate = 12\n",
    "tip_rate = 18\n",
    "tax = round((meal_cost*(12/100)),2)\n",
    "tip = round((meal_cost*(18/100)),2)\n",
    "total = meal_cost+tax+tip\n",
    "print (\"Meal : {0}\\nTip : {1}\\nTax : {2}\\n{3}\\nGrand Total : {4}\".format(meal_cost,tip,tax,20*'-',total))"
   ]
  },
  {
   "cell_type": "markdown",
   "metadata": {
    "colab_type": "text",
    "id": "G72-OcUl4dXF"
   },
   "source": [
    "# Exercise 7: Sum of the First n Positive Integers\n",
    "Write a program that reads a positive integer, n, from the user and then displays the sum of allthe integers from 1 to n. The sum of the first n positive integers can be computed using the formula: sum = (n)(n + 1)/2"
   ]
  },
  {
   "cell_type": "code",
   "execution_count": null,
   "metadata": {
    "colab": {
     "base_uri": "https://localhost:8080/",
     "height": 51
    },
    "colab_type": "code",
    "id": "YbInP-3V4nP2",
    "outputId": "3ecec809-11e2-4bd1-ac79-db57ab6a98c7"
   },
   "outputs": [
    {
     "name": "stdout",
     "output_type": "stream",
     "text": [
      "Enter a positive integer : 18\n",
      "Sum of the First 18 Positive Integers is 171\n"
     ]
    }
   ],
   "source": [
    "n = int(input(\"Enter a positive integer : \"))\n",
    "sum = round((n)*(n + 1)/2)\n",
    "print (\"Sum of the First {0} Positive Integers is {1}\".format(n,sum))"
   ]
  },
  {
   "cell_type": "markdown",
   "metadata": {
    "colab_type": "text",
    "id": "OaWtSzQk5ruz"
   },
   "source": [
    "# Exercise 8:Widgets and Gizmos\n",
    "An online retailer sells two products: widgets and gizmos. Each widget weighs 75 grams. Each gizmo weighs 112 grams. Write a program that reads the number of widgets and the number of gizmos in an order from the user. Then your program should compute and display the total weight of the order."
   ]
  },
  {
   "cell_type": "code",
   "execution_count": null,
   "metadata": {
    "colab": {
     "base_uri": "https://localhost:8080/",
     "height": 68
    },
    "colab_type": "code",
    "id": "NGaUq6dQ5um6",
    "outputId": "6021a6fd-f258-4489-e543-5d83db9ba13e"
   },
   "outputs": [
    {
     "name": "stdout",
     "output_type": "stream",
     "text": [
      "Enter the number of Widgets to order : 20\n",
      "Enter the number of Gizmos to order : 25\n",
      "Your total order weight is 4300 Grams\n"
     ]
    }
   ],
   "source": [
    "num_widgets = int(input(\"Enter the number of Widgets to order : \"))\n",
    "num_gizmos = int(input(\"Enter the number of Gizmos to order : \"))\n",
    "weight_widget  = 75 \n",
    "weight_gizmo = 112\n",
    "order_weight = num_widgets * weight_widget + num_gizmos * weight_gizmo\n",
    "print (\"Your total order weight is {0} Grams\".format(order_weight))"
   ]
  },
  {
   "cell_type": "markdown",
   "metadata": {
    "colab_type": "text",
    "id": "d8nvaS_-6txU"
   },
   "source": [
    "# Exercise 9: Compound Interest\n",
    "Pretend that you have just opened a new savings account that earns 4 percent interest per year. The interest that you earn is paid at the end of the year andis added to the balance of the savings account. Write a program that begins by reading the amount of money deposited into the account from the user. Then your program should compute and display the amount in the savings account after 1, 2, and 3 years. Display each amount so that it is rounded to 2 decimal places.\n"
   ]
  },
  {
   "cell_type": "code",
   "execution_count": null,
   "metadata": {
    "colab": {
     "base_uri": "https://localhost:8080/",
     "height": 85
    },
    "colab_type": "code",
    "id": "cANuGT7u6z5O",
    "outputId": "b8b3db55-7215-4aa2-b989-8b961f78732c"
   },
   "outputs": [
    {
     "name": "stdout",
     "output_type": "stream",
     "text": [
      "Enter your deposit : 250000\n",
      "Total Savings amount after 1 years is 260000.0\n",
      "Total Savings amount after 2 years is 270400.0\n",
      "Total Savings amount after 3 years is 281216.0\n"
     ]
    }
   ],
   "source": [
    "\n",
    "deposit = float(input(\"Enter your deposit : \"))\n",
    "rate = 4\n",
    "\n",
    "for i in range(1,4):\n",
    "  maturity_sum = deposit * (pow((1 + rate / 100), i))\n",
    "  print(\"Total Savings amount after {0} years is {1}\".format(i,round(maturity_sum,2)))\n",
    "  "
   ]
  },
  {
   "cell_type": "markdown",
   "metadata": {
    "colab_type": "text",
    "id": "Yxs2yd547kmV"
   },
   "source": [
    "# Exercise 10: Arithmetic\n",
    "Create a program that reads two integers, a and b, fromthe user. Your program should compute and display: • The sum of a and b • The difference when b is subtracted from a • The product of a and b• The quotient when a is divided by b • The remainder when a is dividedby b • The result of log10 a • The result of ab\n",
    "Hint: You will probably find the log10 function in the math module helpful for computing the second last item in the list."
   ]
  },
  {
   "cell_type": "code",
   "execution_count": null,
   "metadata": {
    "colab": {
     "base_uri": "https://localhost:8080/",
     "height": 153
    },
    "colab_type": "code",
    "id": "9ZxZNAxB7pS3",
    "outputId": "8a77633c-4cff-49e4-a83d-87dd329a1810"
   },
   "outputs": [
    {
     "name": "stdout",
     "output_type": "stream",
     "text": [
      "Enter an integer : 20\n",
      "Enter an integer : 5\n",
      "a+b :  25\n",
      "a-b :  15\n",
      "a*b :  100\n",
      "a/b :  4.0\n",
      "a//b :  4\n",
      "log10 a :  1.3010299956639813\n"
     ]
    }
   ],
   "source": [
    "import math\n",
    "a=int(input(\"Enter an integer : \"))\n",
    "b=int(input(\"Enter an integer : \"))\n",
    "print (\"a+b : \",a+b)\n",
    "print (\"a-b : \",a-b)\n",
    "print (\"a*b : \",a*b)\n",
    "print (\"a/b : \",a/b)q2\n",
    "print (\"a//b : \",a//b)\n",
    "print (\"log10 a : \",math.log10(a))\n",
    "#print (\"ab : \",ab)"
   ]
  }
 ],
 "metadata": {
  "colab": {
   "collapsed_sections": [],
   "name": "assignment2.ipynb",
   "provenance": []
  },
  "kernelspec": {
   "display_name": "Python 3",
   "language": "python",
   "name": "python3"
  },
  "language_info": {
   "codemirror_mode": {
    "name": "ipython",
    "version": 3
   },
   "file_extension": ".py",
   "mimetype": "text/x-python",
   "name": "python",
   "nbconvert_exporter": "python",
   "pygments_lexer": "ipython3",
   "version": "3.7.0"
  }
 },
 "nbformat": 4,
 "nbformat_minor": 1
}
