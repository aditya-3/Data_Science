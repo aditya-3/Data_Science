{
 "cells": [
  {
   "cell_type": "code",
   "execution_count": 1,
   "metadata": {
    "colab": {
     "base_uri": "https://localhost:8080/",
     "height": 34
    },
    "colab_type": "code",
    "executionInfo": {
     "elapsed": 2197,
     "status": "ok",
     "timestamp": 1594173600444,
     "user": {
      "displayName": "ADITYA NANDAN REDDY SANIVARAPU",
      "photoUrl": "https://lh3.googleusercontent.com/a-/AOh14Gi7c8jcNJcV1K-igm3QCSDHGuiWq9OTwZI_edrpcw=s64",
      "userId": "17706295692846180763"
     },
     "user_tz": -330
    },
    "id": "XxrLq1WiJZ74",
    "outputId": "c1d8d6d4-1b22-48c5-e90b-0cc647c29230"
   },
   "outputs": [
    {
     "name": "stdout",
     "output_type": "stream",
     "text": [
      "hello\n"
     ]
    }
   ],
   "source": [
    "#Q1\n",
    "a = \"hello\"\n",
    "print (a)"
   ]
  },
  {
   "cell_type": "code",
   "execution_count": 2,
   "metadata": {
    "colab": {
     "base_uri": "https://localhost:8080/",
     "height": 51
    },
    "colab_type": "code",
    "executionInfo": {
     "elapsed": 1448,
     "status": "ok",
     "timestamp": 1594173646053,
     "user": {
      "displayName": "ADITYA NANDAN REDDY SANIVARAPU",
      "photoUrl": "https://lh3.googleusercontent.com/a-/AOh14Gi7c8jcNJcV1K-igm3QCSDHGuiWq9OTwZI_edrpcw=s64",
      "userId": "17706295692846180763"
     },
     "user_tz": -330
    },
    "id": "PxJSeJjCJo5G",
    "outputId": "2fe61509-9fb6-44af-8b1d-620d9ebb2054"
   },
   "outputs": [
    {
     "name": "stdout",
     "output_type": "stream",
     "text": [
      "hello\n",
      "Hi Dear\n"
     ]
    }
   ],
   "source": [
    "#Q2\n",
    "a = \"hello\"\n",
    "print (a)\n",
    "a = \"Hi Dear\"\n",
    "print (a)"
   ]
  },
  {
   "cell_type": "code",
   "execution_count": 3,
   "metadata": {
    "colab": {
     "base_uri": "https://localhost:8080/",
     "height": 34
    },
    "colab_type": "code",
    "executionInfo": {
     "elapsed": 1350,
     "status": "ok",
     "timestamp": 1594173731097,
     "user": {
      "displayName": "ADITYA NANDAN REDDY SANIVARAPU",
      "photoUrl": "https://lh3.googleusercontent.com/a-/AOh14Gi7c8jcNJcV1K-igm3QCSDHGuiWq9OTwZI_edrpcw=s64",
      "userId": "17706295692846180763"
     },
     "user_tz": -330
    },
    "id": "lZwpKxVtJ2SP",
    "outputId": "6c3f6d50-f314-4c02-9adb-bb95a60db03d"
   },
   "outputs": [
    {
     "name": "stdout",
     "output_type": "stream",
     "text": [
      "Hello Eric, would you like to learn some Python today?\n"
     ]
    }
   ],
   "source": [
    "#Q3\n",
    "p_name = \"Eric\"\n",
    "print (\"Hello {0}, would you like to learn some Python today?\".format(p_name))"
   ]
  },
  {
   "cell_type": "code",
   "execution_count": 4,
   "metadata": {
    "colab": {
     "base_uri": "https://localhost:8080/",
     "height": 34
    },
    "colab_type": "code",
    "executionInfo": {
     "elapsed": 1425,
     "status": "ok",
     "timestamp": 1594173813471,
     "user": {
      "displayName": "ADITYA NANDAN REDDY SANIVARAPU",
      "photoUrl": "https://lh3.googleusercontent.com/a-/AOh14Gi7c8jcNJcV1K-igm3QCSDHGuiWq9OTwZI_edrpcw=s64",
      "userId": "17706295692846180763"
     },
     "user_tz": -330
    },
    "id": "aPpDffQoKPiH",
    "outputId": "d451538c-c7d1-4921-8225-717e05a47806"
   },
   "outputs": [
    {
     "name": "stdout",
     "output_type": "stream",
     "text": [
      "Albert Einstein once said, “A person who never made a mistake never tried anything new.”\n"
     ]
    }
   ],
   "source": [
    "#Q4\n",
    "quote =  once said, “A person who never made a mistake never tried anything ne'Albert Einsteinw.”'\n",
    "print (quote)"
   ]
  },
  {
   "cell_type": "code",
   "execution_count": 5,
   "metadata": {
    "colab": {
     "base_uri": "https://localhost:8080/",
     "height": 34
    },
    "colab_type": "code",
    "executionInfo": {
     "elapsed": 1705,
     "status": "ok",
     "timestamp": 1594173936710,
     "user": {
      "displayName": "ADITYA NANDAN REDDY SANIVARAPU",
      "photoUrl": "https://lh3.googleusercontent.com/a-/AOh14Gi7c8jcNJcV1K-igm3QCSDHGuiWq9OTwZI_edrpcw=s64",
      "userId": "17706295692846180763"
     },
     "user_tz": -330
    },
    "id": "f3SVk7AmKgKk",
    "outputId": "3a7d0cef-ed5a-4dff-cacd-e93e0a2421d2"
   },
   "outputs": [
    {
     "name": "stdout",
     "output_type": "stream",
     "text": [
      "Albert Einstein once said, “A person who never made a mistake never tried anything new.”\n"
     ]
    }
   ],
   "source": [
    "#Q5\n",
    "message = '“A person who never made a mistake never tried anything new.”'\n",
    "p_name = 'Albert Einstein'\n",
    "print('{0} once said, {1}'.format(p_name,message))"
   ]
  },
  {
   "cell_type": "code",
   "execution_count": 7,
   "metadata": {
    "colab": {
     "base_uri": "https://localhost:8080/",
     "height": 102
    },
    "colab_type": "code",
    "executionInfo": {
     "elapsed": 1303,
     "status": "ok",
     "timestamp": 1594174096876,
     "user": {
      "displayName": "ADITYA NANDAN REDDY SANIVARAPU",
      "photoUrl": "https://lh3.googleusercontent.com/a-/AOh14Gi7c8jcNJcV1K-igm3QCSDHGuiWq9OTwZI_edrpcw=s64",
      "userId": "17706295692846180763"
     },
     "user_tz": -330
    },
    "id": "PdrDXQL9K_jz",
    "outputId": "da17aa77-b19e-413d-9e9e-e4fbd7b866a4"
   },
   "outputs": [
    {
     "name": "stdout",
     "output_type": "stream",
     "text": [
      "8\n",
      "8\n",
      "8\n",
      "8\n",
      "\n"
     ]
    }
   ],
   "source": [
    "#Q6\n",
    "print('{0}\\n{1}\\n{2}\\n{3}\\n'.format(5+3,9-1,2*4,int(16/2)))"
   ]
  },
  {
   "cell_type": "code",
   "execution_count": 9,
   "metadata": {
    "colab": {
     "base_uri": "https://localhost:8080/",
     "height": 34
    },
    "colab_type": "code",
    "executionInfo": {
     "elapsed": 1296,
     "status": "ok",
     "timestamp": 1594174314946,
     "user": {
      "displayName": "ADITYA NANDAN REDDY SANIVARAPU",
      "photoUrl": "https://lh3.googleusercontent.com/a-/AOh14Gi7c8jcNJcV1K-igm3QCSDHGuiWq9OTwZI_edrpcw=s64",
      "userId": "17706295692846180763"
     },
     "user_tz": -330
    },
    "id": "GxX8VhpjLlma",
    "outputId": "9b554dd7-8c62-4fe9-9b98-4adfcbce945e"
   },
   "outputs": [
    {
     "name": "stdout",
     "output_type": "stream",
     "text": [
      "my fav message “A person who never made a mistake never tried anything new.”\n"
     ]
    }
   ],
   "source": [
    "#Q7\n",
    "message_1 = '“A person who never made a mistake never tried anything new.”'\n",
    "fav_number  = 1\n",
    "if fav_number ==1:\n",
    "  print (\"my fav message {}\".format(message_1))"
   ]
  },
  {
   "cell_type": "code",
   "execution_count": 10,
   "metadata": {
    "colab": {
     "base_uri": "https://localhost:8080/",
     "height": 102
    },
    "colab_type": "code",
    "executionInfo": {
     "elapsed": 1586,
     "status": "ok",
     "timestamp": 1594174388844,
     "user": {
      "displayName": "ADITYA NANDAN REDDY SANIVARAPU",
      "photoUrl": "https://lh3.googleusercontent.com/a-/AOh14Gi7c8jcNJcV1K-igm3QCSDHGuiWq9OTwZI_edrpcw=s64",
      "userId": "17706295692846180763"
     },
     "user_tz": -330
    },
    "id": "9hPH9Kg0MXPK",
    "outputId": "14d3a6e2-9274-453b-ebe2-91ee0c8094c1"
   },
   "outputs": [
    {
     "name": "stdout",
     "output_type": "stream",
     "text": [
      "8\n",
      "8\n",
      "8\n",
      "8\n",
      "\n"
     ]
    }
   ],
   "source": [
    "#Q8\n",
    "#this just prints the basic arithmetic operations\n",
    "print('{0}\\n{1}\\n{2}\\n{3}\\n'.format(5+3,9-1,2*4,int(16/2)))"
   ]
  },
  {
   "cell_type": "code",
   "execution_count": 11,
   "metadata": {
    "colab": {
     "base_uri": "https://localhost:8080/",
     "height": 102
    },
    "colab_type": "code",
    "executionInfo": {
     "elapsed": 1741,
     "status": "ok",
     "timestamp": 1594174543432,
     "user": {
      "displayName": "ADITYA NANDAN REDDY SANIVARAPU",
      "photoUrl": "https://lh3.googleusercontent.com/a-/AOh14Gi7c8jcNJcV1K-igm3QCSDHGuiWq9OTwZI_edrpcw=s64",
      "userId": "17706295692846180763"
     },
     "user_tz": -330
    },
    "id": "DYzUqgZDMujI",
    "outputId": "63fbb627-ffb1-4a06-d322-c4c7aa62030f"
   },
   "outputs": [
    {
     "name": "stdout",
     "output_type": "stream",
     "text": [
      "Eric\n",
      "John\n",
      "Nelson\n",
      "Peter\n",
      "James\n"
     ]
    }
   ],
   "source": [
    "#Q9\n",
    "friends_list = [\"Eric\", \"John\", \"Nelson\", \"Peter\" , \"James\"]\n",
    "for friend in friends_list:\n",
    "  print (friend)"
   ]
  },
  {
   "cell_type": "code",
   "execution_count": 12,
   "metadata": {
    "colab": {
     "base_uri": "https://localhost:8080/",
     "height": 102
    },
    "colab_type": "code",
    "executionInfo": {
     "elapsed": 1332,
     "status": "ok",
     "timestamp": 1594174597371,
     "user": {
      "displayName": "ADITYA NANDAN REDDY SANIVARAPU",
      "photoUrl": "https://lh3.googleusercontent.com/a-/AOh14Gi7c8jcNJcV1K-igm3QCSDHGuiWq9OTwZI_edrpcw=s64",
      "userId": "17706295692846180763"
     },
     "user_tz": -330
    },
    "id": "1kWbQmnfNRih",
    "outputId": "4dd78f07-9119-4442-e590-f1b7c17bfa7c"
   },
   "outputs": [
    {
     "name": "stdout",
     "output_type": "stream",
     "text": [
      "Hello Eric, welcome to my place.\n",
      "Hello John, welcome to my place.\n",
      "Hello Nelson, welcome to my place.\n",
      "Hello Peter, welcome to my place.\n",
      "Hello James, welcome to my place.\n"
     ]
    }
   ],
   "source": [
    "#Q10\n",
    "friends_list = [\"Eric\", \"John\", \"Nelson\", \"Peter\" , \"James\"]\n",
    "for friend in friends_list:\n",
    "  print (\"Hello {0}, welcome to my place.\".format(friend))"
   ]
  },
  {
   "cell_type": "code",
   "execution_count": 13,
   "metadata": {
    "colab": {
     "base_uri": "https://localhost:8080/",
     "height": 119
    },
    "colab_type": "code",
    "executionInfo": {
     "elapsed": 1324,
     "status": "ok",
     "timestamp": 1594174785891,
     "user": {
      "displayName": "ADITYA NANDAN REDDY SANIVARAPU",
      "photoUrl": "https://lh3.googleusercontent.com/a-/AOh14Gi7c8jcNJcV1K-igm3QCSDHGuiWq9OTwZI_edrpcw=s64",
      "userId": "17706295692846180763"
     },
     "user_tz": -330
    },
    "id": "BAlbmwmGNfkB",
    "outputId": "3e65655e-f05a-41c1-bd73-da097fd0dde3"
   },
   "outputs": [
    {
     "name": "stdout",
     "output_type": "stream",
     "text": [
      " I would like to own a Honda motor cycle\n",
      " I would like to own a Suzuki motor cycle\n",
      " I would like to own a Yamaha motor cycle\n",
      " I would like to own a Kawasaki motor cycle\n",
      " I would like to own a TVS motor cycle\n",
      " I would like to own a Hero motor cycle\n"
     ]
    }
   ],
   "source": [
    "#Q11\n",
    "fav_mode  = 'motor cycle'\n",
    "stores = ['Honda', 'Suzuki', 'Yamaha', 'Kawasaki', 'TVS', 'Hero']\n",
    "for store in stores:\n",
    "  print (\" I would like to own a {0} {1}\".format(store,fav_mode))"
   ]
  }
 ],
 "metadata": {
  "colab": {
   "authorship_tag": "ABX9TyMRGAqhKLSLbekA2rDQKFVp",
   "name": "assignment1.ipynb",
   "provenance": []
  },
  "kernelspec": {
   "display_name": "Python 3",
   "language": "python",
   "name": "python3"
  },
  "language_info": {
   "codemirror_mode": {
    "name": "ipython",
    "version": 3
   },
   "file_extension": ".py",
   "mimetype": "text/x-python",
   "name": "python",
   "nbconvert_exporter": "python",
   "pygments_lexer": "ipython3",
   "version": "3.7.0"
  }
 },
 "nbformat": 4,
 "nbformat_minor": 1
}
