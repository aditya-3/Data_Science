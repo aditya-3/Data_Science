{
 "cells": [
  {
   "cell_type": "markdown",
   "metadata": {},
   "source": [
    "# Question 1\n",
    "\n",
    "Write a program that reads an integer from the user. Then your\n",
    "program should display a message indicating whether the integer is\n",
    "even or odd.\n"
   ]
  },
  {
   "cell_type": "code",
   "execution_count": 9,
   "metadata": {},
   "outputs": [
    {
     "name": "stdout",
     "output_type": "stream",
     "text": [
      "enter a number : 10\n",
      "10 is an EVEN number\n"
     ]
    }
   ],
   "source": [
    "n = int(input(\"enter a number : \"))\n",
    "if n % 2:\n",
    "    print (\"{} is an ODD number\".format(n))\n",
    "else:\n",
    "    print (\"{} is an EVEN number\".format(n))"
   ]
  },
  {
   "cell_type": "markdown",
   "metadata": {},
   "source": [
    "# Question 2\n",
    "Write a program that implements the conversion from human years to\n",
    "dog years. Ensure that your\n",
    "program works correctly for conversions of less than two human years\n",
    "and for conversions of two or more human years. Your program should\n",
    "display an appropriate error message if the user enters a negative\n",
    "number.\n",
    "\n",
    "According to the American Veterinary Medical Association:\n",
    "\n",
    "* The first year of a medium-sized dog’s life is 15 years of a human’s life.\n",
    "* The second year of a dog’s life equals about nine years for a human.\n",
    "* And after that, every human year equals approximately five years for a dog."
   ]
  },
  {
   "cell_type": "code",
   "execution_count": 17,
   "metadata": {},
   "outputs": [
    {
     "name": "stdout",
     "output_type": "stream",
     "text": [
      "Enter human years : 60\n",
      "10.0 Dog years\n"
     ]
    }
   ],
   "source": [
    "import math\n",
    "human_years = int(input(\"Enter human years : \"))\n",
    "if human_years <= 0:\n",
    "    print (\"Human years shouldn't be negative or zero\")\n",
    "elif (human_years < 15):\n",
    "    print (\"less that One Dog year\")\n",
    "elif (human_years == 15):\n",
    "    print (\"One Dog year\")\n",
    "else:\n",
    "    y = 1\n",
    "    x = human_years -15\n",
    "    if (x < 9):\n",
    "        print(\"One to two Dog years\")\n",
    "    elif (x == 9):\n",
    "        print(\"two Dog years\")\n",
    "    else:\n",
    "        x = x-9\n",
    "        y = y+math.floor(x/4)\n",
    "        y = y + (0.2*(x%4))\n",
    "        print (\"{} Dog years\".format(y))"
   ]
  },
  {
   "cell_type": "markdown",
   "metadata": {},
   "source": [
    "# Question 3\n",
    "Create a program that reads a letter of the alphabet from the user. If the\n",
    "user enters a, e, i, o or u then your program should display a message\n",
    "indicating that the entered letter is a vowel. If the user enters y then\n",
    "your program should display a message indicating that sometimes y is a\n",
    "vowel, and sometimes y is a consonant. Otherwise your program should\n",
    "display a message indicating that the letter is a consonant."
   ]
  },
  {
   "cell_type": "code",
   "execution_count": 11,
   "metadata": {},
   "outputs": [
    {
     "name": "stdout",
     "output_type": "stream",
     "text": [
      "Enter a character : g\n",
      "the letter 'g' is a consonant\n"
     ]
    }
   ],
   "source": [
    "c = input(\"Enter a character : \").lower()\n",
    "vowels = ['a','e','i','o','u']\n",
    "if c in vowels:\n",
    "    print (\"you entered a vowel\")\n",
    "elif c == 'y':\n",
    "    print (\"sometimes 'y' is a vowel\")\n",
    "else:\n",
    "    print (\"the letter '{}' is a consonant\".format(c))"
   ]
  },
  {
   "cell_type": "markdown",
   "metadata": {},
   "source": [
    "# Question 4\n",
    "Write a program that determines the name of a shape from its number\n",
    "of sides. Read the number of sides from the user and then report the\n",
    "appropriate name as part of a meaningful message. Your program\n",
    "should support shapes with anywhere from 3 up to (and including) 10\n",
    "sides. If a number of sides outside of this range is entered then your\n",
    "program should display an appropriate error message.\n"
   ]
  },
  {
   "cell_type": "code",
   "execution_count": 14,
   "metadata": {},
   "outputs": [
    {
     "name": "stdout",
     "output_type": "stream",
     "text": [
      "Enter the number of sides : 5\n",
      "The shape with 5 sides is Pentagon\n"
     ]
    }
   ],
   "source": [
    "shapes = ['Triangle', 'Quadrilateral', 'Pentagon', 'Hexagon' , 'Heptagon', 'Octagon', ' Nonagon',' Decagon']\n",
    "\n",
    "sides = int(input(\"Enter the number of sides : \"))\n",
    "if sides in range(3,11):\n",
    "    print (\"The shape with {} sides is {}\".format(sides, shapes[sides-3]))\n",
    "else:\n",
    "    print (\"enter the sides in range 3 to 10\")\n"
   ]
  },
  {
   "cell_type": "markdown",
   "metadata": {},
   "source": [
    "# Question 5\n",
    "The length of a month varies from 28 to 31 days. In this exercise you\n",
    "will create a program that reads the name of a month from the user as a\n",
    "string. Then your program should display the number of days in that\n",
    "month. Display “28 or 29 days” for February so that leap years are\n",
    "addressed."
   ]
  },
  {
   "cell_type": "code",
   "execution_count": 18,
   "metadata": {},
   "outputs": [
    {
     "name": "stdout",
     "output_type": "stream",
     "text": [
      "Enter a month : february\n",
      "Enter a year : 1997\n",
      "FEBRUARY has 28 days in the year 1997\n"
     ]
    }
   ],
   "source": [
    "month = input(\"Enter a month : \").lower()\n",
    "year = int(input(\"Enter a year : \"))\n",
    "days_31 = ['january','march','may','july','august','october','december']\n",
    "days_30 = ['april','june','september','november']\n",
    "\n",
    "if month in days_31:\n",
    "    print (\"{} has 31 days in the year {}\".format(month.upper(),year))\n",
    "elif month in days_30:\n",
    "    print (\"{} has 30 days in the year {}\".format(month.upper(),year))\n",
    "elif month == 'february':\n",
    "    if(year % 400 == 0) or (year % 4 ==0 ):\n",
    "        print (\"{} has 29 days in the year {}\".format(month.upper(),year))\n",
    "    else:\n",
    "        print (\"{} has 28 days in the year {}\".format(month.upper(),year))\n",
    "else:\n",
    "    print (\"Entered month '{}' is invalid.\".format(month.upper()))\n",
    "        \n",
    "    \n"
   ]
  },
  {
   "cell_type": "markdown",
   "metadata": {},
   "source": [
    "# Question 6\n",
    "The following table lists the sound level in decibels for several common\n",
    "noises.\n",
    "#### Noise Decibel level (dB)\n",
    "* Jackhammer : 130\n",
    "* Gas lawnmower : 106\n",
    "* Alarm clock : 70\n",
    "* Quiet room : 40\n",
    "\n",
    "Write a program that reads a sound level in decibels from the user. If the user\n",
    "enters a decibel level that matches one of the noises in the table then your\n",
    "program should display a message containing only that noise. If the user \n",
    "enters a number of decibels between the noises listed then your program\n",
    "should display a message indicating which noises the level is between. Ensure\n",
    "that your program also generates reasonable output for a value smaller than\n",
    "the quietest noise in the table, and for a value larger than the loudest noise in\n",
    "the table."
   ]
  },
  {
   "cell_type": "code",
   "execution_count": 25,
   "metadata": {},
   "outputs": [
    {
     "name": "stdout",
     "output_type": "stream",
     "text": [
      "enter a decibel value : 50\n",
      "Entered decibel level is in between Alarm clock and Quiet room\n"
     ]
    }
   ],
   "source": [
    "sound_dict = { 130 : 'Jackhammer' , 106 : 'Gas lawnmower' , 70 : 'Alarm clock' , 40 :'Quiet room' }\n",
    "db = int(input(\"enter a decibel value : \"))\n",
    "if db in sound_dict.keys():\n",
    "    print(\"Entered decibel level is for {}\".format(sound_dict[db]))\n",
    "elif db > 130:\n",
    "    print (\"Entered decibel level is more than {} \".format(sound_dict[130]))\n",
    "elif db < 40:\n",
    "    print (\"Entered decibel level is more than {} \".format(sound_dict[40]))\n",
    "elif db > 106:\n",
    "     print (\"Entered decibel level is in between {} and {}\".format(sound_dict[130],sound_dict[106]))\n",
    "else:\n",
    "    print (\"Entered decibel level is in between {} and {}\".format(sound_dict[70],sound_dict[40]))\n",
    "        \n",
    "        \n",
    "        "
   ]
  },
  {
   "cell_type": "markdown",
   "metadata": {},
   "source": [
    "# Question 7\n",
    "The following table lists an octave of music notes, beginning with\n",
    "middle C, along with their frequencies.\n",
    "#### Note Frequency (Hz)\n",
    "* C4 - 261.63\n",
    "* D4 - 293.66\n",
    "* E4 - 329.63\n",
    "* F4 - 349.23\n",
    "* G4 - 392.00\n",
    "* A4 - 440.00\n",
    "* B4 - 493.88\n",
    "\n",
    "Begin by writing a program that reads the name of a note from the user and\n",
    "displays the note’s frequency. Your program should support all of the notes\n",
    "listed previously.\n",
    "Once you have your program working correctly for the notes listed previously\n",
    "you should add support for all of the notes from C0 to C8. While this could be\n",
    "done by adding many additional cases to your if statement, such a solution is\n",
    "cumbersome, inelegant and unacceptable for the purposes of this exercise.\n",
    "Instead, you should exploit the relationship between notes in adjacent octaves.\n",
    "In particular, the frequency of any note in octave n is half the frequency of the\n",
    "corresponding note in octave n+1n+1. By using this relationship, you should\n",
    "be able to add support for the additional notes without adding additional cases\n",
    "to your if statement.\n",
    "Hint: To complete this exercise you will need to extract individual characters\n",
    "from the two-character note name so that you can work with the letter and the\n",
    "octave number separately. Once you have separated the parts, compute the\n",
    "frequency of the note in the fourth octave using the data in the table above.\n",
    "Then divide the frequency by 24−x24−x, where xx is the octave number entered\n",
    "by the user. This will halve or double the frequency the correct number of\n",
    "times."
   ]
  },
  {
   "cell_type": "code",
   "execution_count": 21,
   "metadata": {},
   "outputs": [
    {
     "name": "stdout",
     "output_type": "stream",
     "text": [
      "Enter a music note : d8\n",
      "Frequency for the note 'd8' is 4698.56 Hz\n",
      "{'C': [16.35, 65.41, 65.41, 130.81, 261.63, 523.26, 1046.52, 2093.04, 4186.08], 'D': [18.35, 73.42, 73.42, 146.83, 293.66, 587.32, 1174.64, 2349.28, 4698.56], 'E': [20.6, 82.41, 82.41, 164.81, 329.63, 659.26, 1318.52, 2637.04, 5274.08], 'F': [21.83, 87.31, 87.31, 174.62, 349.23, 698.46, 1396.92, 2793.84, 5587.68], 'G': [24.5, 98.0, 98.0, 196.0, 392.0, 784.0, 1568.0, 3136.0, 6272.0], 'A': [27.5, 110.0, 110.0, 220.0, 440.0, 880.0, 1760.0, 3520.0, 7040.0], 'B': [30.87, 123.47, 123.47, 246.94, 493.88, 987.76, 1975.52, 3951.04, 7902.08]}\n"
     ]
    }
   ],
   "source": [
    "import math\n",
    "input_note = input(\"Enter a music note : \")\n",
    "n = [-4,-2,-2,-1,0,1,2,3,4]\n",
    "frequencies = {}\n",
    "base_freq = {'C4': 261.63, 'D4' : 293.66, 'E4' : 329.63, 'F4' : 349.23,'G4': 392.00, 'A4' : 440.00, 'B4' : 493.88}\n",
    "for freq in base_freq.keys():\n",
    "    note = freq[0]\n",
    "    base_value = base_freq[freq]\n",
    "    f = []\n",
    "    for i in n:\n",
    "        f.append(round(base_value * math.pow(2,(i * 12)/12),2))\n",
    "    frequencies[note] = f\n",
    "if (input_note[0].isalpha() and input_note[1].isdigit()):\n",
    "    note = input_note[0].upper()\n",
    "    octave = int(input_note[1])\n",
    "else:\n",
    "    print(\"enter a valid note\")\n",
    "\n",
    "freq = frequencies[note][octave]\n",
    "print (\"Frequency for the note '{}' is {} Hz\".format(input_note,freq))\n"
   ]
  },
  {
   "cell_type": "markdown",
   "metadata": {},
   "source": [
    "# Question 8\n",
    "\n",
    "In the previous question you converted from note name to frequency.\n",
    "In this question you will write a program that reverses that process.\n",
    "Begin by reading a frequency from the user. If the frequency is within\n",
    "one Hertz of a value listed in the table in the previous question then\n",
    "report the name of the note. Otherwise report that the frequency does\n",
    "not correspond to a known note. In this exercise you only need to\n",
    "consider the notes listed in the table. There is no need to consider notes\n",
    "from other octaves."
   ]
  },
  {
   "cell_type": "code",
   "execution_count": 32,
   "metadata": {},
   "outputs": [
    {
     "name": "stdout",
     "output_type": "stream",
     "text": [
      "Enter a frequency : 100\n",
      "Note for the frequency 100.0 is not found in the below frequencies chart\n",
      "\n",
      "---------------------------------------------------------------------------\n",
      "C [16.35, 65.41, 65.41, 130.81, 261.63, 523.26, 1046.52, 2093.04, 4186.08]\n",
      "D [18.35, 73.42, 73.42, 146.83, 293.66, 587.32, 1174.64, 2349.28, 4698.56]\n",
      "E [20.6, 82.41, 82.41, 164.81, 329.63, 659.26, 1318.52, 2637.04, 5274.08]\n",
      "F [21.83, 87.31, 87.31, 174.62, 349.23, 698.46, 1396.92, 2793.84, 5587.68]\n",
      "G [24.5, 98.0, 98.0, 196.0, 392.0, 784.0, 1568.0, 3136.0, 6272.0]\n",
      "A [27.5, 110.0, 110.0, 220.0, 440.0, 880.0, 1760.0, 3520.0, 7040.0]\n",
      "B [30.87, 123.47, 123.47, 246.94, 493.88, 987.76, 1975.52, 3951.04, 7902.08]\n",
      "---------------------------------------------------------------------------\n"
     ]
    }
   ],
   "source": [
    "input_freq = round(float(input(\"Enter a frequency : \")),2)\n",
    "flag = 0\n",
    "for note in frequencies.keys():\n",
    "        if input_freq in frequencies[note]:\n",
    "            octave = frequencies[note].index(input_freq)\n",
    "            note = note+str(octave)\n",
    "            print (\"Note for the frequency {} is {}\".format(input_freq,note))\n",
    "            flag = 1\n",
    "            break\n",
    "if (flag ==0):\n",
    "    print (\"Note for the frequency {} is not found in the below frequencies chart\\n\".format(input_freq))\n",
    "    print (75 *'-')\n",
    "    for note,freq in zip(frequencies.keys(),frequencies.values()):\n",
    "        print(note,freq)        \n",
    "    print (75 *'-')\n",
    "            \n",
    "    "
   ]
  },
  {
   "cell_type": "markdown",
   "metadata": {},
   "source": [
    "# Question 9\n",
    "The wavelength of visible light ranges from 380 to 750 nanometers\n",
    "(nm). While the spectrum is continuous, it is often divided into 6 colors\n",
    "as shown below:\n",
    "#### Color Wavelength (nm)\n",
    "* Violet 380 to less than 450\n",
    "* Blue 450 to less than 495\n",
    "* Green 495 to less than 570\n",
    "* Yellow 570 to less than 590\n",
    "* Orange 590 to less than 620\n",
    "* Red 620 to 750\n",
    "\n",
    "Write a program that reads a wavelength from the user and reports its\n",
    "color. Display an appropriate error message if the wavelength entered by the\n",
    "user is outside of the visible spectrum.\n"
   ]
  },
  {
   "cell_type": "code",
   "execution_count": 33,
   "metadata": {},
   "outputs": [
    {
     "name": "stdout",
     "output_type": "stream",
     "text": [
      "Enter the wavelength : 580\n",
      "Entered wavelength 580 nm matches the color Yellow\n"
     ]
    }
   ],
   "source": [
    "spectrum = {'Violet' : [380,450],'Blue':[450,495],'Green':[495,570],'Yellow':[570,590],'Orange':[590,620],'Red':[620,750]}\n",
    "w = int(input(\"Enter the wavelength : \"))\n",
    "flag = 0\n",
    "for color in spectrum.keys():\n",
    "    min,max = spectrum[color]\n",
    "    if(w >= min and w < max):\n",
    "        print (\"Entered wavelength {} nm matches the color {}\".format(w,color))\n",
    "        flag =1\n",
    "        break\n",
    "if (flag == 0):\n",
    "    print (\"Entered wavelength {} nm doesnot matche any color {}\".format(w))"
   ]
  }
 ],
 "metadata": {
  "kernelspec": {
   "display_name": "Python 3",
   "language": "python",
   "name": "python3"
  },
  "language_info": {
   "codemirror_mode": {
    "name": "ipython",
    "version": 3
   },
   "file_extension": ".py",
   "mimetype": "text/x-python",
   "name": "python",
   "nbconvert_exporter": "python",
   "pygments_lexer": "ipython3",
   "version": "3.7.0"
  }
 },
 "nbformat": 4,
 "nbformat_minor": 2
}
